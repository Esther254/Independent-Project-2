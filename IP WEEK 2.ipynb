{
 "cells": [
  {
   "cell_type": "code",
   "execution_count": 1,
   "metadata": {},
   "outputs": [
    {
     "name": "stdout",
     "output_type": "stream",
     "text": [
      "enter number of text_messages : 25.00\n",
      "enter number of minutes : 45.00\n",
      "enter number of additional texts : 5.00\n",
      "enter number of additional minutes : 25.00\n",
      "your total bill is : 156.6\n"
     ]
    }
   ],
   "source": [
    "    text_messages = float(input (\"enter number of text_messages : \"))\n",
    "    minutes = float(input(\"enter number of minutes : \"))\n",
    "    base_charge = 50\n",
    "    tax = (116/100)\n",
    "    base_charge1 = base_charge*tax\n",
    "    additional_texts = text_messages-20\n",
    "    additional_minutes = minutes-20\n",
    "    if text_messages==20 and minutes==20 :\n",
    "        print(\"total bill amount is ksh.50\")  \n",
    "    else:\n",
    "        additional_texts = float(input(\"enter number of additional texts : \"))\n",
    "        additional_minute = float(input(\"enter number of additional minutes : \"))       \n",
    "    total_bill_amount=( 50 + (additional_texts*2.00) + (additional_minutes*3.00))*tax\n",
    "print(\"your total bill is : \" + str(total_bill_amount))        "
   ]
  },
  {
   "cell_type": "code",
   "execution_count": null,
   "metadata": {},
   "outputs": [],
   "source": []
  },
  {
   "cell_type": "code",
   "execution_count": null,
   "metadata": {},
   "outputs": [],
   "source": []
  },
  {
   "cell_type": "code",
   "execution_count": null,
   "metadata": {},
   "outputs": [],
   "source": []
  }
 ],
 "metadata": {
  "kernelspec": {
   "display_name": "Python 3",
   "language": "python",
   "name": "python3"
  },
  "language_info": {
   "codemirror_mode": {
    "name": "ipython",
    "version": 3
   },
   "file_extension": ".py",
   "mimetype": "text/x-python",
   "name": "python",
   "nbconvert_exporter": "python",
   "pygments_lexer": "ipython3",
   "version": "3.7.6"
  }
 },
 "nbformat": 4,
 "nbformat_minor": 4
}
